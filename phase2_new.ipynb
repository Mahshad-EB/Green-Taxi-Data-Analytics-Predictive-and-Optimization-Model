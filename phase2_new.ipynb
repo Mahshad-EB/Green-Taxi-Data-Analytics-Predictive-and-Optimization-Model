{
 "cells": [
  {
   "cell_type": "markdown",
   "id": "1e8bcd330d3bc814",
   "metadata": {
    "collapsed": false,
    "jupyter": {
     "outputs_hidden": false
    }
   },
   "source": [
    "Optimization Model"
   ]
  },
  {
   "cell_type": "markdown",
   "id": "feeae9507509b6d7",
   "metadata": {
    "collapsed": false,
    "jupyter": {
     "outputs_hidden": false
    }
   },
   "source": [
    "Import Libraries"
   ]
  },
  {
   "cell_type": "code",
   "execution_count": null,
   "id": "bae6458b2a9990b1",
   "metadata": {
    "collapsed": false,
    "jupyter": {
     "outputs_hidden": false
    }
   },
   "outputs": [],
   "source": [
    "import pandas as pd\n",
    "from sklearn.model_selection import train_test_split\n",
    "from sklearn.ensemble import RandomForestClassifier\n",
    "from sklearn.metrics import accuracy_score\n"
   ]
  },
  {
   "cell_type": "markdown",
   "id": "29ded51d9b7e5c1f",
   "metadata": {
    "collapsed": false,
    "jupyter": {
     "outputs_hidden": false
    }
   },
   "source": [
    "Load dataset"
   ]
  },
  {
   "cell_type": "code",
   "execution_count": null,
   "id": "a265eaf863030e03",
   "metadata": {
    "collapsed": false,
    "jupyter": {
     "outputs_hidden": false
    }
   },
   "outputs": [],
   "source": [
    "file_path = 'Preprocessed.csv'\n",
    "data = pd.read_csv(\"Preprocessed.csv\")"
   ]
  },
  {
   "cell_type": "code",
   "execution_count": null,
   "id": "1cc6d0888adc4f52",
   "metadata": {
    "collapsed": false,
    "jupyter": {
     "outputs_hidden": false
    }
   },
   "outputs": [],
   "source": [
    "data['tip_paid'] = (data['tip_amount'] > 0).astype(int)\n",
    "\n",
    "\n",
    "X = data[['PULocationID', 'DOLocationID', 'trip_time_category']]\n",
    "y = data['tip_paid']\n",
    "\n",
    "\n",
    "X = pd.get_dummies(X, columns=['PULocationID', 'DOLocationID', 'trip_time_category'], drop_first=True)\n",
    "\n",
    "\n",
    "X_train, X_test, y_train, y_test = train_test_split(X, y, test_size=0.2, random_state=42)\n",
    "\n",
    "\n",
    "model = RandomForestClassifier(n_estimators=50, random_state=42)  \n",
    "model.fit(X_train, y_train)\n",
    "\n",
    "\n",
    "important_locations = [265,  55, 117,  86, 197,  76, 130, 244,  14,  75, 132,  39, 213,  93,216,\n",
    "205,  89,  51,  95,  61, 108, 254,  74, 215,  35]\n",
    "\n",
    "\n",
    "results = []\n",
    "for pu in important_locations:\n",
    "    for do in important_locations:\n",
    "        if pu != do:  \n",
    "            for time_category in ['Low', 'Normal', 'Peak']:\n",
    "                sample = pd.DataFrame({\n",
    "                    'PULocationID': [pu],\n",
    "                    'DOLocationID': [do],\n",
    "                    'trip_time_category': [time_category]\n",
    "                })\n",
    "                sample_encoded = pd.get_dummies(sample, columns=['PULocationID', 'DOLocationID', 'trip_time_category'])\n",
    "                sample_encoded = sample_encoded.reindex(columns=X.columns, fill_value=0)\n",
    "                predicted_tip = model.predict(sample_encoded)[0]\n",
    "                results.append({\n",
    "                    'PULocationID': pu,\n",
    "                    'DOLocationID': do,\n",
    "                    'trip_time_category': time_category,\n",
    "                    'tip_paid': 'Yes' if predicted_tip == 1 else 'No'\n",
    "                })\n",
    "\n",
    "\n",
    "y_pred = model.predict(X_test)\n",
    "model_accuracy = accuracy_score(y_test, y_pred)\n",
    "\n",
    "\n",
    "results_df = pd.DataFrame(results)\n",
    "results_df.to_csv('Important_Locations_Tip_Predictions.csv', index=False)\n",
    "\n",
    "\n",
    "demand_matrix = pd.read_csv('Main_OD.csv', index_col=0)  \n",
    "low_cost_matrix = pd.read_csv('cost_matrix_low.csv', index_col=0)  \n",
    "normal_cost_matrix = pd.read_csv('cost_matrix_normal.csv', index_col=0)  \n",
    "peak_cost_matrix = pd.read_csv('cost_matrix_peak.csv', index_col=0)  \n",
    "distance_matrix = pd.read_csv('distance_matrix.csv', index_col=0)  \n",
    "Important_Locations = pd.read_csv('Important_Locations_Tip_Predictions.csv')\n",
    "Important_Locations.set_index(['PULocationID', 'DOLocationID', 'trip_time_category'], inplace=True)\n",
    "\n",
    "\n",
    "from pulp import LpMaximize, LpProblem, LpVariable, lpSum\n",
    "\n",
    "locations = demand_matrix.index.tolist()\n",
    "times = ['Low', 'Normal', 'Peak']\n",
    "\n",
    "model = LpProblem(\"Maximize_Profit\", LpMaximize)\n",
    "\n",
    "x = LpVariable.dicts(\"X\", [(i, j, t) for i in locations for j in locations for t in times],\n",
    "                     lowBound=0, cat=\"Continuous\")\n",
    "\n",
    "objective = lpSum(\n",
    "    (40 - low_cost_matrix.loc[i, j]) * x[i, j, 'Low'] +\n",
    "    (40 - normal_cost_matrix.loc[i, j]) * x[i, j, 'Normal'] +\n",
    "    (40 - peak_cost_matrix.loc[i, j]) * x[i, j, 'Peak']\n",
    "    for i in locations for j in locations if i != j\n",
    ") + lpSum(\n",
    "    5 * model_accuracy * x[i, j, t]\n",
    "    if (i, j, t) in Important_Locations.index and Important_Locations.loc[(i, j, t), 'tip_paid'] == 'Yes' else 0\n",
    "    for i in locations for j in locations if i != j for t in times\n",
    ")\n",
    "model += objective\n",
    "\n",
    "\n",
    "model += lpSum(\n",
    "    distance_matrix.loc[i, j] * x[i, j, t]\n",
    "    for i in locations for j in locations if i != j for t in times\n",
    ") <= 1000, \"Total_Distance\"\n",
    "\n",
    "for i in locations:\n",
    "    for j in locations:\n",
    "        if i != j:\n",
    "            for t in times:\n",
    "                model += x[i, j, t] <= demand_matrix.loc[i, j], f\"Demand_Constraint_{i}_{j}_{t}\"\n",
    "\n",
    "\n",
    "model.solve()\n",
    "\n",
    "\n",
    "print(\"Status:\", model.status)\n",
    "print(\"Objective Value (Profit):\", model.objective.value())\n",
    "\n",
    "decision_values = pd.DataFrame([\n",
    "    {\"PULocationID\": i, \"DOLocationID\": j, \"Time\": t, \"Trips\": x[i, j, t].varValue}\n",
    "    for i in locations for j in locations if i != j for t in times\n",
    "])\n",
    "\n",
    "print(decision_values)\n",
    "decision_values.to_csv('Optimal_Decisions.csv', index=False)"
   ]
  }
 ],
 "metadata": {
  "kernelspec": {
   "display_name": "Python [conda env:base] *",
   "language": "python",
   "name": "conda-base-py"
  },
  "language_info": {
   "codemirror_mode": {
    "name": "ipython",
    "version": 3
   },
   "file_extension": ".py",
   "mimetype": "text/x-python",
   "name": "python",
   "nbconvert_exporter": "python",
   "pygments_lexer": "ipython3",
   "version": "3.12.7"
  }
 },
 "nbformat": 4,
 "nbformat_minor": 5
}
